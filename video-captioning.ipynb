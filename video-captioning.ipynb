{
 "cells": [
  {
   "cell_type": "code",
   "execution_count": 1,
   "id": "d53f5ae6-2b8d-4af3-bd87-2cc20f8a7347",
   "metadata": {},
   "outputs": [
    {
     "name": "stdout",
     "output_type": "stream",
     "text": [
      "Requirement already satisfied: transformers in /Library/Frameworks/Python.framework/Versions/3.10/lib/python3.10/site-packages (4.36.1)\n",
      "Requirement already satisfied: datasets in /Library/Frameworks/Python.framework/Versions/3.10/lib/python3.10/site-packages (2.14.5)\n",
      "Requirement already satisfied: filelock in /Library/Frameworks/Python.framework/Versions/3.10/lib/python3.10/site-packages (from transformers) (3.12.4)\n",
      "Requirement already satisfied: huggingface-hub<1.0,>=0.19.3 in /Library/Frameworks/Python.framework/Versions/3.10/lib/python3.10/site-packages (from transformers) (0.19.4)\n",
      "Requirement already satisfied: numpy>=1.17 in /Library/Frameworks/Python.framework/Versions/3.10/lib/python3.10/site-packages (from transformers) (1.26.0)\n",
      "Requirement already satisfied: packaging>=20.0 in /Library/Frameworks/Python.framework/Versions/3.10/lib/python3.10/site-packages (from transformers) (23.2)\n",
      "Requirement already satisfied: pyyaml>=5.1 in /Library/Frameworks/Python.framework/Versions/3.10/lib/python3.10/site-packages (from transformers) (6.0.1)\n",
      "Requirement already satisfied: regex!=2019.12.17 in /Library/Frameworks/Python.framework/Versions/3.10/lib/python3.10/site-packages (from transformers) (2023.10.3)\n",
      "Requirement already satisfied: requests in /Library/Frameworks/Python.framework/Versions/3.10/lib/python3.10/site-packages (from transformers) (2.31.0)\n",
      "Requirement already satisfied: tokenizers<0.19,>=0.14 in /Library/Frameworks/Python.framework/Versions/3.10/lib/python3.10/site-packages (from transformers) (0.15.0)\n",
      "Requirement already satisfied: safetensors>=0.3.1 in /Library/Frameworks/Python.framework/Versions/3.10/lib/python3.10/site-packages (from transformers) (0.4.1)\n",
      "Requirement already satisfied: tqdm>=4.27 in /Library/Frameworks/Python.framework/Versions/3.10/lib/python3.10/site-packages (from transformers) (4.66.1)\n",
      "Requirement already satisfied: pyarrow>=8.0.0 in /Library/Frameworks/Python.framework/Versions/3.10/lib/python3.10/site-packages (from datasets) (13.0.0)\n",
      "Requirement already satisfied: dill<0.3.8,>=0.3.0 in /Library/Frameworks/Python.framework/Versions/3.10/lib/python3.10/site-packages (from datasets) (0.3.7)\n",
      "Requirement already satisfied: pandas in /Library/Frameworks/Python.framework/Versions/3.10/lib/python3.10/site-packages (from datasets) (2.1.1)\n",
      "Requirement already satisfied: xxhash in /Library/Frameworks/Python.framework/Versions/3.10/lib/python3.10/site-packages (from datasets) (3.4.1)\n",
      "Requirement already satisfied: multiprocess in /Library/Frameworks/Python.framework/Versions/3.10/lib/python3.10/site-packages (from datasets) (0.70.15)\n",
      "Requirement already satisfied: fsspec<2023.9.0,>=2023.1.0 in /Library/Frameworks/Python.framework/Versions/3.10/lib/python3.10/site-packages (from fsspec[http]<2023.9.0,>=2023.1.0->datasets) (2023.6.0)\n",
      "Requirement already satisfied: aiohttp in /Library/Frameworks/Python.framework/Versions/3.10/lib/python3.10/site-packages (from datasets) (3.8.6)\n",
      "Requirement already satisfied: attrs>=17.3.0 in /Library/Frameworks/Python.framework/Versions/3.10/lib/python3.10/site-packages (from aiohttp->datasets) (23.1.0)\n",
      "Requirement already satisfied: charset-normalizer<4.0,>=2.0 in /Library/Frameworks/Python.framework/Versions/3.10/lib/python3.10/site-packages (from aiohttp->datasets) (3.3.0)\n",
      "Requirement already satisfied: multidict<7.0,>=4.5 in /Library/Frameworks/Python.framework/Versions/3.10/lib/python3.10/site-packages (from aiohttp->datasets) (6.0.4)\n",
      "Requirement already satisfied: async-timeout<5.0,>=4.0.0a3 in /Library/Frameworks/Python.framework/Versions/3.10/lib/python3.10/site-packages (from aiohttp->datasets) (4.0.3)\n",
      "Requirement already satisfied: yarl<2.0,>=1.0 in /Library/Frameworks/Python.framework/Versions/3.10/lib/python3.10/site-packages (from aiohttp->datasets) (1.9.2)\n",
      "Requirement already satisfied: frozenlist>=1.1.1 in /Library/Frameworks/Python.framework/Versions/3.10/lib/python3.10/site-packages (from aiohttp->datasets) (1.4.0)\n",
      "Requirement already satisfied: aiosignal>=1.1.2 in /Library/Frameworks/Python.framework/Versions/3.10/lib/python3.10/site-packages (from aiohttp->datasets) (1.3.1)\n",
      "Requirement already satisfied: typing-extensions>=3.7.4.3 in /Library/Frameworks/Python.framework/Versions/3.10/lib/python3.10/site-packages (from huggingface-hub<1.0,>=0.19.3->transformers) (4.8.0)\n",
      "Requirement already satisfied: idna<4,>=2.5 in /Library/Frameworks/Python.framework/Versions/3.10/lib/python3.10/site-packages (from requests->transformers) (3.4)\n",
      "Requirement already satisfied: urllib3<3,>=1.21.1 in /Library/Frameworks/Python.framework/Versions/3.10/lib/python3.10/site-packages (from requests->transformers) (2.0.6)\n",
      "Requirement already satisfied: certifi>=2017.4.17 in /Library/Frameworks/Python.framework/Versions/3.10/lib/python3.10/site-packages (from requests->transformers) (2023.7.22)\n",
      "Requirement already satisfied: python-dateutil>=2.8.2 in /Library/Frameworks/Python.framework/Versions/3.10/lib/python3.10/site-packages (from pandas->datasets) (2.8.2)\n",
      "Requirement already satisfied: pytz>=2020.1 in /Library/Frameworks/Python.framework/Versions/3.10/lib/python3.10/site-packages (from pandas->datasets) (2023.3.post1)\n",
      "Requirement already satisfied: tzdata>=2022.1 in /Library/Frameworks/Python.framework/Versions/3.10/lib/python3.10/site-packages (from pandas->datasets) (2023.3)\n",
      "Requirement already satisfied: six>=1.5 in /Library/Frameworks/Python.framework/Versions/3.10/lib/python3.10/site-packages (from python-dateutil>=2.8.2->pandas->datasets) (1.16.0)\n",
      "\u001b[33mWARNING: There was an error checking the latest version of pip.\u001b[0m\u001b[33m\n",
      "\u001b[0m"
     ]
    }
   ],
   "source": [
    "!pip install transformers datasets"
   ]
  },
  {
   "cell_type": "code",
   "execution_count": 2,
   "id": "9a5fc012-2b45-465f-ae11-f4017f4e13fb",
   "metadata": {},
   "outputs": [
    {
     "name": "stderr",
     "output_type": "stream",
     "text": [
      "2023-12-18 14:59:01.078836: I tensorflow/core/platform/cpu_feature_guard.cc:182] This TensorFlow binary is optimized to use available CPU instructions in performance-critical operations.\n",
      "To enable the following instructions: AVX2 FMA, in other operations, rebuild TensorFlow with the appropriate compiler flags.\n",
      "Could not find image processor class in the image processor config or the model config. Loading based on pattern matching with the model's feature extractor configuration.\n"
     ]
    },
    {
     "name": "stdout",
     "output_type": "stream",
     "text": [
      "A woman is demonstrating how to cut a pineapple with a knife.\n"
     ]
    }
   ],
   "source": [
    "import av\n",
    "import numpy as np\n",
    "import torch\n",
    "from transformers import AutoImageProcessor, AutoTokenizer, VisionEncoderDecoderModel\n",
    "\n",
    "device = \"cuda\" if torch.cuda.is_available() else \"cpu\"\n",
    "\n",
    "# load pretrained processor, tokenizer, and model\n",
    "image_processor = AutoImageProcessor.from_pretrained(\"MCG-NJU/videomae-base\")\n",
    "tokenizer = AutoTokenizer.from_pretrained(\"gpt2\")\n",
    "model = VisionEncoderDecoderModel.from_pretrained(\"Neleac/timesformer-gpt2-video-captioning\").to(device)\n",
    "\n",
    "# load video\n",
    "video_path = \"/Users/pradhammummaleti/Desktop/clips/pineapple.mp4\"\n",
    "container = av.open(video_path)\n",
    "\n",
    "# extract evenly spaced frames from video\n",
    "seg_len = container.streams.video[0].frames\n",
    "clip_len = model.config.encoder.num_frames\n",
    "indices = set(np.linspace(0, seg_len, num=clip_len, endpoint=False).astype(np.int64))\n",
    "frames = []\n",
    "container.seek(0)\n",
    "for i, frame in enumerate(container.decode(video=0)):\n",
    "    if i in indices:\n",
    "        frames.append(frame.to_ndarray(format=\"rgb24\"))\n",
    "\n",
    "# generate caption\n",
    "gen_kwargs = {\n",
    "    \"min_length\": 10, \n",
    "    \"max_length\": 20, \n",
    "    \"num_beams\": 8,\n",
    "}\n",
    "pixel_values = image_processor(frames, return_tensors=\"pt\").pixel_values.to(device)\n",
    "tokens = model.generate(pixel_values, **gen_kwargs)\n",
    "caption = tokenizer.batch_decode(tokens, skip_special_tokens=True)[0]\n",
    "print(caption) # A man and a woman are dancing on a stage in front of a mirror."
   ]
  },
  {
   "cell_type": "code",
   "execution_count": 1,
   "id": "a135e26e-e6e7-45c4-b226-1f735336d4ff",
   "metadata": {},
   "outputs": [],
   "source": [
    "from audiodiffusion.audio_encoder import AudioEncoder\n",
    "\n",
    "audio_encoder = AudioEncoder.from_pretrained(\"teticio/audio-encoder\")\n",
    "audio_file = \"/Users/pradhammummaleti/Desktop/clips/pineapple.wav\"\n",
    "encoded_data = audio_encoder.encode([audio_file])"
   ]
  },
  {
   "cell_type": "code",
   "execution_count": 8,
   "id": "dcb8627c-2cdd-4329-88c5-5398e0b89eaa",
   "metadata": {
    "scrolled": true
   },
   "outputs": [
    {
     "data": {
      "text/plain": [
       "tensor([[ 11.0744,  23.6762, -30.3259,  39.1872, -37.6647,  -8.0132,  -2.3028,\n",
       "           8.2763, -40.9545,  16.5539,   7.0898,  11.5276, -11.0206,  22.1024,\n",
       "          17.9133,  40.7175,  22.1279,   6.0712, -27.0478, -27.1478,   2.3527,\n",
       "          21.3279,   3.4097,  32.3277, -40.1387,  72.7095, -22.4377,  42.6610,\n",
       "          22.8109,  -1.1885,   3.2350,   9.1994,  -7.4176,  38.4983,  -1.9953,\n",
       "           8.3511,  60.2911, -53.9132,  -0.6156,  42.5981,  17.7433, -32.4823,\n",
       "          26.7388,  -3.0530,   8.2417,  -2.2541,  20.6977, -32.3582,  53.1745,\n",
       "          -5.8590, -19.4883, -12.1383,  -6.0315, -64.6113,  -7.9678, -37.3708,\n",
       "          -6.4381, -22.8694,   9.3857,  40.2284, -14.7982,  -0.2618, -20.8238,\n",
       "          16.8162,  -0.6041, -23.8430, -43.4468,   4.3810, -12.0016,  -4.4224,\n",
       "         -29.6774,  24.1884,  -5.6692, -19.5042,   0.1824,   7.9631,  30.2965,\n",
       "          -1.3448,   9.5877,   8.0240,   4.8490, -37.8526,  -8.0223,  19.9402,\n",
       "          29.3661, -10.6023,  11.2181,  23.5371,  -2.7949,   8.2963,  25.1064,\n",
       "          16.4489,   1.3301,  33.3045,  38.6721, -35.2167,  -0.9006, -16.5466,\n",
       "          10.9811,  -0.6989]])"
      ]
     },
     "execution_count": 8,
     "metadata": {},
     "output_type": "execute_result"
    }
   ],
   "source": [
    "encoded_data"
   ]
  },
  {
   "cell_type": "code",
   "execution_count": 72,
   "id": "0f161526-9771-4679-9eab-222bdcd70df1",
   "metadata": {},
   "outputs": [],
   "source": [
    "import assemblyai as aai\n",
    "\n",
    "aai.settings.api_key = \"511b9e459c8e4140abbf57f7f19e8176\"\n",
    "transcriber = aai.Transcriber()\n",
    "\n",
    "transcript = transcriber.transcribe(\"/Users/pradhammummaleti/Desktop/clips/pineapple.mp3\")\n"
   ]
  },
  {
   "cell_type": "code",
   "execution_count": 79,
   "id": "e8aeb4f9-bd47-4cc5-913b-78a72168fc42",
   "metadata": {},
   "outputs": [],
   "source": [
    "from transformers import pipeline\n",
    "\n",
    "summarizer = pipeline(\"summarization\", model=\"Falconsai/text_summarization\")\n",
    "\n",
    "ARTICLE = \"\"\"\n",
    "Nowadays, you can certainly buy your pineapples at the grocery store, all cut up and ready to go. But I'm going to tell you, buying a fresh, whole pineapple is not only going to taste better, it's going to save you some money as well. So I'm going to show you the easiest way to cut a pineapple. First thing you're going to do is lie the pineapple down on its side, and using a nice sharp knife, you want to cut off the top and the bottom of the pineapple. Then stand the pineapple up and you're going to slice it straight down the center, creating two equal halves. Now, every pineapple has a core running right down the center, and it's too tough to eat, so it needs to be removed. You're going to see that the fibers of the core run in the opposite direction of the rest of the pineapple. So all you need to do is take the edge of your knife and line it up with the edge of the core and slice down and inward. Then you're going to slice each half of the pineapple in half and then take each quarter and slice it right down the center till you get to the skin. Then rotate that quarter and make half inch slices all the way down. Then for the last step, you're just going to take the edge of your knife and run it right between the flesh of the pineapple and the skin to loosen up all the pieces. Now, this is going to leave you with the perfect little bite sized pieces of pineapple that you can either serve as is in a little pineapple bolt or slide them right out and pop them in a bowl. For more simple and nutritious recipes, tips, and ideas, be sure to visit cleananddelicious.com. I'm Danny Speeds, and I'll see you next time.\n",
    "\n",
    "\"\"\""
   ]
  },
  {
   "cell_type": "code",
   "execution_count": 85,
   "id": "ae13f745-fae8-497f-953f-435daa662648",
   "metadata": {},
   "outputs": [
    {
     "name": "stdout",
     "output_type": "stream",
     "text": [
      "[{'summary_text': \"I'm going to show you the easiest way to cut a pineapple . First thing you're going to do is lie the pineapple down on its side . Then stand the pineapple up and slice it straight down the center . This is going to leave you with the perfect little bite sized pieces of pineapple that you can either serve as is in a little pineapple bolt or slide them right out and pop them in .\"}]\n"
     ]
    }
   ],
   "source": [
    "print(summarizer(ARTICLE, max_length=100, min_length=50, do_sample=False))"
   ]
  },
  {
   "cell_type": "code",
   "execution_count": null,
   "id": "9d60ab87-6f85-4a46-8199-f0155215d9dc",
   "metadata": {},
   "outputs": [],
   "source": []
  }
 ],
 "metadata": {
  "kernelspec": {
   "display_name": "Python 3 (ipykernel)",
   "language": "python",
   "name": "python3"
  },
  "language_info": {
   "codemirror_mode": {
    "name": "ipython",
    "version": 3
   },
   "file_extension": ".py",
   "mimetype": "text/x-python",
   "name": "python",
   "nbconvert_exporter": "python",
   "pygments_lexer": "ipython3",
   "version": "3.10.0"
  }
 },
 "nbformat": 4,
 "nbformat_minor": 5
}
